{
 "cells": [
  {
   "cell_type": "markdown",
   "metadata": {},
   "source": [
    "## Task 1:   \n",
    " \n",
    "1.1  \n",
    " \n",
    "**Write a Python Program to implement your own myreduce() function which works exactly like Python's built-in function reduce()** "
   ]
  },
  {
   "cell_type": "code",
   "execution_count": 1,
   "metadata": {},
   "outputs": [
    {
     "name": "stdout",
     "output_type": "stream",
     "text": [
      "2520\n"
     ]
    }
   ],
   "source": [
    "def meth(variable1,variable2):\n",
    "    return variable1*variable2\n",
    "\n",
    "def myreduce(meth,mylist):\n",
    "    s = mylist[0]\n",
    "    for i in mylist[1:]:\n",
    "        s =  meth(s,i)\n",
    "    \n",
    "    return s\n",
    "\n",
    "\n",
    "result = myreduce(meth,[4,7,9,10])\n",
    "\n",
    "print(result)\n"
   ]
  },
  {
   "cell_type": "markdown",
   "metadata": {},
   "source": [
    "1.2  \n",
    " \n",
    "**Write a Python program to implement your own myfilter() function which works exactly like Python's built-in function filter()**"
   ]
  },
  {
   "cell_type": "code",
   "execution_count": 2,
   "metadata": {},
   "outputs": [
    {
     "name": "stdout",
     "output_type": "stream",
     "text": [
      "5\n",
      "6\n",
      "7\n"
     ]
    }
   ],
   "source": [
    "def meth(varialble1):\n",
    "    if varialble1 > 4:\n",
    "        return True\n",
    "\n",
    "    else:\n",
    "        return False\n",
    "\n",
    "\n",
    "def myfilter(meth,seq):\n",
    "        for i in seq:\n",
    "\n",
    "            if meth(i):\n",
    "                print(i)\n",
    "\n",
    "\n",
    "myfilter(meth,[1,2,3,4,5,6,7])"
   ]
  },
  {
   "cell_type": "markdown",
   "metadata": {},
   "source": [
    "2.  \n",
    " \n",
    "**Implement List comprehensions to produce the following lists**\n",
    " \n",
    "**Write List comprehensions to produce the following Lists**\n",
    " \n",
    "['A', 'C', 'A', 'D', 'G', 'I', ’L’, ‘ D’] \n",
    " \n",
    "['x', 'xx', 'xxx', 'xxxx', 'y', 'yy', 'yyy', 'yyyy', 'z', 'zz', 'zzz', 'zzzz'] \n",
    " \n",
    "['x', 'y', 'z', 'xx', 'yy', 'zz', 'xx', 'yy', 'zz', 'xxxx', 'yyyy', 'zzzz'] \n",
    " \n",
    "[[2], [3], [4], [3], [4], [5], [4], [5], [6]] \n",
    " \n",
    "[[2, 3, 4, 5], [3, 4, 5, 6], [4, 5, 6, 7], [5, 6, 7, 8]] \n",
    " \n",
    "[(1, 1), (2, 1), (3, 1), (1, 2), (2, 2), (3, 2), (1, 3), (2, 3), (3, 3)] "
   ]
  },
  {
   "cell_type": "code",
   "execution_count": 3,
   "metadata": {},
   "outputs": [
    {
     "name": "stdout",
     "output_type": "stream",
     "text": [
      "The output is : ['A', 'C', 'A', 'D', 'G', 'I', 'L', 'D']\n",
      "The output is : ['x', 'xx', 'xxx', 'xxxx', 'y', 'yy', 'yyy', 'yyyy', 'z', 'zz', 'zzz', 'zzzz']\n",
      "The output is : ['x', 'y', 'z', 'xx', 'yy', 'zz', 'xxx', 'yyy', 'zzz', 'xxxx', 'yyyy', 'zzzz']\n",
      "The output is : [[2], [3], [4], [3], [4], [5], [4], [5], [6]]\n",
      "The output is : [[2, 3, 4, 5], [3, 4, 5, 6], [4, 5, 6, 7], [5, 6, 7, 8]]\n",
      "The output is : [(1, 1), (2, 1), (3, 1), (1, 2), (2, 2), (3, 2), (1, 3), (2, 3), (3, 3)]\n"
     ]
    }
   ],
   "source": [
    "## ['A', 'C', 'A', 'D', 'G', 'I', 'L', 'D']\n",
    "\n",
    "input_word1 = \"ACADGILD\"\n",
    "\n",
    "output_list1 = [a for a in input_word1]\n",
    "print(\"The output is :\",output_list1)\n",
    "\n",
    "\n",
    "## ['x', 'xx', 'xxx', 'xxxx', 'y', 'yy', 'yyy', 'yyyy', 'z', 'zz', 'zzz', 'zzzz'] \n",
    "\n",
    "input_word2 = \"xyz\"\n",
    "input_word2 = list(input_word2)  # ['x','y','z']\n",
    "output_list2 = [num*a for a in input_word2 for num in range(1,5)]\n",
    "print(\"The output is :\",output_list2)\n",
    "\n",
    "\n",
    "\n",
    "## ['x', 'y', 'z', 'xx', 'yy', 'zz', 'xx', 'yy', 'zz', 'xxxx', 'yyyy', 'zzzz'] \n",
    "input_word3 = \"xyz\"\n",
    "input_word3 = list(input_word3)  # ['x','y','z']\n",
    "output_list3 = [num*a for num in range(1,5) for a in input_word3]\n",
    "print(\"The output is :\",output_list3)\n",
    "\n",
    "\n",
    "\n",
    "\n",
    "## [[2], [3], [4], [3], [4], [5], [4], [5], [6]]\n",
    "input_word4 = \"234\"\n",
    "input_word4 = [int(digit) for digit in input_word4]  # [2,3,4]\n",
    "output_list4 = [ [item+num] for item in input_word4 for num in range(0,3)]\n",
    "print(\"The output is :\",output_list4)\n",
    "\n",
    "\n",
    "\n",
    "\n",
    "\n",
    "## [[2, 3, 4, 5], [3, 4, 5, 6], [4, 5, 6, 7], [5, 6, 7, 8]] \n",
    "input_word5 = \"2345\"\n",
    "input_word5 = [int(digit) for digit in input_word5]  # [2,3,4,5]\n",
    "output_list5 = [ [item+num for item in input_word5] for num in range(0,4)  ]\n",
    "print(\"The output is :\",output_list5)\n",
    "\n",
    "\n",
    "\n",
    "\n",
    "\n",
    "\n",
    "## [(1, 1), (2, 1), (3, 1), (1, 2), (2, 2), (3, 2), (1, 3), (2, 3), (3, 3)] \n",
    "input_word6 = \"123\"\n",
    "input_word6 = [int(digit) for digit in input_word6]   # [1,2,3]\n",
    "output_list6 = [ (b,a) for a in input_word6 for b in input_word6]\n",
    "print(\"The output is :\",output_list6)\n",
    "\n"
   ]
  },
  {
   "cell_type": "markdown",
   "metadata": {},
   "source": [
    "3.  \n",
    " \n",
    "**Implement a function longestWord() that takes a list of words and returns the longest one.** "
   ]
  },
  {
   "cell_type": "code",
   "execution_count": 4,
   "metadata": {},
   "outputs": [
    {
     "name": "stdout",
     "output_type": "stream",
     "text": [
      "Outstanding\n"
     ]
    }
   ],
   "source": [
    "def longestWord(words):\n",
    "    max_length = 0\n",
    "    for word in words:\n",
    "        currentLength = len(word)\n",
    "        if currentLength > max_length:\n",
    "            max_length = currentLength\n",
    "            target_word = word\n",
    "\n",
    "    \n",
    "    return target_word\n",
    "\n",
    "\n",
    "print(longestWord([\"Good\",\"Bad\",\"Excellent\",\"Poor\",\"Outstanding\"]))\n"
   ]
  },
  {
   "cell_type": "markdown",
   "metadata": {},
   "source": [
    "## Task 2: \n",
    " \n",
    " \n",
    "1.1  \n",
    " \n",
    "**Write a Python Program(with class concepts) to find the area of the triangle using the below formula.** \n",
    " \n",
    "*area = (s*(s-a)*(s-b)*(s-c)) ** 0.5 \n",
    " \n",
    "**Function to take the length of the sides of triangle from user should be defined in the parent class and function to calculate the area should be defined in subclass.** "
   ]
  },
  {
   "cell_type": "code",
   "execution_count": 5,
   "metadata": {},
   "outputs": [
    {
     "name": "stdout",
     "output_type": "stream",
     "text": [
      "Area =  950.7252166109827\n"
     ]
    }
   ],
   "source": [
    "class ParentArea:\n",
    "    def __init__(self,a,b,c):\n",
    "        self.a = a\n",
    "        self.b = b\n",
    "        self.c = c\n",
    "\n",
    "class Area(ParentArea):\n",
    "    def calc(self):\n",
    "        s = (self.a+self.b+self.c)/2\n",
    "        area = (s*(s-self.a)*(s-self.b)*(s-self.c))**0.5\n",
    "        return area\n",
    "\n",
    "\n",
    "CalcArea = Area(34,67,56)\n",
    "print(\"Area = \",CalcArea.calc())"
   ]
  },
  {
   "cell_type": "markdown",
   "metadata": {},
   "source": [
    "1.2 \n",
    " \n",
    "**Write a function filter_long_words() that takes a list of words and an integer n and returns the list of words that are longer than n.** "
   ]
  },
  {
   "cell_type": "code",
   "execution_count": 6,
   "metadata": {},
   "outputs": [
    {
     "name": "stdout",
     "output_type": "stream",
     "text": [
      "['Excellent', 'Outstanding']\n"
     ]
    }
   ],
   "source": [
    "def filter_long_words(words,n):\n",
    "    filtered_words = []\n",
    "    for word in words:\n",
    "        if len(word) > n:\n",
    "            filtered_words.append(word)\n",
    "\n",
    "    return filtered_words\n",
    "\n",
    "print(filter_long_words([\"Good\",\"Bad\",\"Excellent\",\"Poor\",\"Outstanding\"],6))"
   ]
  },
  {
   "cell_type": "markdown",
   "metadata": {},
   "source": [
    "2.1 \n",
    " \n",
    "**Write a Python program using function concept that maps  list of words into a list of integers representing the lengths of the corresponding words​.**\n",
    " * Hint: ​If a list [ ab,cde,erty] is passed on to the python function output should come as [2,3,4]    \n",
    " * Here 2,3 and 4 are the lengths of the words in the list. "
   ]
  },
  {
   "cell_type": "code",
   "execution_count": 8,
   "metadata": {},
   "outputs": [
    {
     "name": "stdout",
     "output_type": "stream",
     "text": [
      "List of length of integers is  [4, 3, 9, 4, 11]\n"
     ]
    }
   ],
   "source": [
    "def word2int(words):\n",
    "    listofint = [len(word) for word in words]\n",
    "    return listofint\n",
    "\n",
    "\n",
    "print(\"List of length of integers is \",word2int([\"Good\",\"Bad\",\"Excellent\",\"Poor\",\"Outstanding\"]))"
   ]
  },
  {
   "cell_type": "markdown",
   "metadata": {},
   "source": [
    "2.2 \n",
    " \n",
    "**Write a Python function which takes a character (i.e. a string of length 1) and returns True if it is a vowel, False otherwise**"
   ]
  },
  {
   "cell_type": "code",
   "execution_count": 9,
   "metadata": {},
   "outputs": [
    {
     "name": "stdout",
     "output_type": "stream",
     "text": [
      "It is a vowel\n"
     ]
    }
   ],
   "source": [
    "def vowel_check(mychar):\n",
    "    vowels = \"aeiou\"\n",
    "    if mychar in vowels:\n",
    "        return \"It is a vowel\"\n",
    "\n",
    "    else:\n",
    "        return \"It is not a vowel\"\n",
    "\n",
    "\n",
    "print(vowel_check(\"e\"))"
   ]
  },
  {
   "cell_type": "code",
   "execution_count": null,
   "metadata": {},
   "outputs": [],
   "source": []
  }
 ],
 "metadata": {
  "kernelspec": {
   "display_name": "py36",
   "language": "python",
   "name": "py36"
  },
  "language_info": {
   "codemirror_mode": {
    "name": "ipython",
    "version": 3
   },
   "file_extension": ".py",
   "mimetype": "text/x-python",
   "name": "python",
   "nbconvert_exporter": "python",
   "pygments_lexer": "ipython3",
   "version": "3.6.9"
  }
 },
 "nbformat": 4,
 "nbformat_minor": 2
}
